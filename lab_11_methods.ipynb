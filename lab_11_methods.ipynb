{
 "cells": [
  {
   "cell_type": "code",
   "execution_count": null,
   "id": "b24b1d9f",
   "metadata": {
    "vscode": {
     "languageId": "plaintext"
    }
   },
   "outputs": [],
   "source": [
    "class Student:\n",
    "    def hello(self):\n",
    "        print(\"Hello, I am a student!\")"
   ]
  },
  {
   "cell_type": "code",
   "execution_count": null,
   "id": "f214231b",
   "metadata": {
    "vscode": {
     "languageId": "plaintext"
    }
   },
   "outputs": [],
   "source": [
    "s1 = Student()\n",
    "s1.hello()"
   ]
  },
  {
   "cell_type": "code",
   "execution_count": null,
   "id": "1dcec4da",
   "metadata": {
    "vscode": {
     "languageId": "plaintext"
    }
   },
   "outputs": [],
   "source": [
    "class Student:\n",
    "    def __init__(self, name, index_number):\n",
    "        self.name = name\n",
    "        self.index_number = index_number\n",
    "\n",
    "    def hello(self):\n",
    "        print(f\"Hello, I am {self.name} my index number is {self.index_number}\")"
   ]
  },
  {
   "cell_type": "code",
   "execution_count": null,
   "id": "9cb106d1",
   "metadata": {
    "vscode": {
     "languageId": "plaintext"
    }
   },
   "outputs": [],
   "source": [
    "s2 = Student(\"Kadir Evrim\", 35096)\n",
    "s2.hello()"
   ]
  }
 ],
 "metadata": {
  "language_info": {
   "name": "python"
  }
 },
 "nbformat": 4,
 "nbformat_minor": 5
}
