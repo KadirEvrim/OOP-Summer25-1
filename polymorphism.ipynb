{
 "cells": [
  {
   "cell_type": "markdown",
   "metadata": {},
   "source": [
    "# Polymorphism in Python\n",
    "\n",
    "Polymorphism, another core concept of Object-Oriented Programming, means \"many forms.\" It refers to the ability of an object to take on many forms. In Python, this means that a single function or method name can be used for different types of objects."
   ]
  },
  {
   "cell_type": "markdown",
   "metadata": {},
   "source": [
    "### 1. Polymorphism with Functions and Methods\n",
    "\n",
    "You can create a function that can take any object, allowing for polymorphism. This is common with built-in functions like `len()`."
   ]
  },
  {
   "cell_type": "code",
   "execution_count": null,
   "metadata": {},
   "outputs": [],
   "source": [
    "# The len() function works with different types of objects\n",
    "print(len(\"hello\"))      # String\n",
    "print(len([1, 2, 3]))   # List\n",
    "print(len((4, 5, 6)))   # Tuple"
   ]
  },
  {
   "cell_type": "markdown",
   "metadata": {},
   "source": [
    "### 2. Polymorphism with Inheritance (Method Overriding)\n",
    "\n",
    "This is one of the most common uses of polymorphism. When a child class provides its own implementation of a method that is already defined in its parent class, it's known as method overriding. This allows objects of different classes to respond to the same method call in different ways."
   ]
  },
  {
   "cell_type": "code",
   "execution_count": null,
   "metadata": {},
   "outputs": [],
   "source": [
    "class Bird:\n",
    "    def intro(self):\n",
    "        print(\"There are many types of birds.\")\n",
    "\n",
    "    def flight(self):\n",
    "        print(\"Most of the birds can fly but some cannot.\")\n",
    "\n",
    "class Sparrow(Bird):\n",
    "    def flight(self):\n",
    "        print(\"Sparrows can fly.\")\n",
    "\n",
    "class Ostrich(Bird):\n",
    "    def flight(self):\n",
    "        print(\"Ostriches cannot fly.\")\n",
    "\n",
    "# Create objects\n",
    "obj_bird = Bird()\n",
    "obj_spr = Sparrow()\n",
    "obj_ost = Ostrich()\n",
    "\n",
    "# Call the flight method on different objects\n",
    "obj_bird.flight()\n",
    "obj_spr.flight()\n",
    "obj_ost.flight()"
   ]
  },
  {
   "cell_type": "markdown",
   "metadata": {},
   "source": [
    "### 3. Polymorphism with Duck Typing\n",
    "\n",
    "Python is a dynamically-typed language, which leads to a concept called \"duck typing.\" The idea is: \"If it walks like a duck and it quacks like a duck, then it must be a duck.\"\n",
    "\n",
    "In other words, the type of the object is less important than the methods it defines. If an object has the required methods, it can be used in a particular context."
   ]
  },
  {
   "cell_type": "code",
   "execution_count": null,
   "metadata": {},
   "outputs": [],
   "source": [
    "class Duck:\n",
    "    def quack(self):\n",
    "        print(\"Quack, quack!\")\n",
    "\n",
    "    def fly(self):\n",
    "        print(\"Flap, flap!\")\n",
    "\n",
    "class Person:\n",
    "    def quack(self):\n",
    "        print(\"I'm quacking like a duck!\")\n",
    "\n",
    "    def fly(self):\n",
    "        print(\"I'm flapping my arms!\")\n",
    "\n",
    "# This function can take any object that has quack() and fly() methods\n",
    "def in_the_forest(thing):\n",
    "    thing.quack()\n",
    "    thing.fly()\n",
    "\n",
    "# Create objects\n",
    "donald = Duck()\n",
    "john = Person()\n",
    "\n",
    "# Pass them to the function\n",
    "print(\"A duck in the forest:\")\n",
    "in_the_forest(donald)\n",
    "\n",
    "print(\"A person in the forest:\")\n",
    "in_the_forest(john)"
   ]
  }
 ],
 "metadata": {
  "kernelspec": {
   "display_name": "Python 3 (ipykernel)",
   "language": "python",
   "name": "python3"
  },
  "language_info": {
   "codemirror_mode": {
    "name": "ipython",
    "version": 3
   },
   "file_extension": ".py",
   "mimetype": "text/x-python",
   "name": "python",
   "nbconvert_exporter": "python",
   "pygments_lexer": "ipython3",
   "version": "3.11.5"
  }
 },
 "nbformat": 4,
 "nbformat_minor": 5
}
