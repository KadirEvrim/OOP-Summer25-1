{
 "cells": [
  {
   "cell_type": "code",
   "execution_count": 2,
   "id": "991f155f",
   "metadata": {},
   "outputs": [
    {
     "name": "stdout",
     "output_type": "stream",
     "text": [
      "kadir evrim\n"
     ]
    }
   ],
   "source": [
    "print(\"kadir evrim\")"
   ]
  },
  {
   "cell_type": "code",
   "execution_count": 3,
   "id": "0c5b888e",
   "metadata": {},
   "outputs": [
    {
     "name": "stdout",
     "output_type": "stream",
     "text": [
      "312312\n"
     ]
    }
   ],
   "source": [
    "number = 312312\n",
    "print(number)"
   ]
  },
  {
   "cell_type": "code",
   "execution_count": 5,
   "id": "70cad80f",
   "metadata": {},
   "outputs": [],
   "source": [
    "models= {\"honda\", \"bmw\", \"mercedes\", \"toyota\"\n",
    "\n",
    "\n",
    "}"
   ]
  },
  {
   "cell_type": "code",
   "execution_count": 7,
   "id": "d138dcb3",
   "metadata": {},
   "outputs": [],
   "source": [
    "class Student:\n",
    "    def __init__(self, name, index_number):\n",
    "          self.name = name\n",
    "          self.index_number = index_number"
   ]
  },
  {
   "cell_type": "code",
   "execution_count": null,
   "id": "d485109f",
   "metadata": {},
   "outputs": [],
   "source": []
  }
 ],
 "metadata": {
  "kernelspec": {
   "display_name": "Python 3",
   "language": "python",
   "name": "python3"
  },
  "language_info": {
   "codemirror_mode": {
    "name": "ipython",
    "version": 3
   },
   "file_extension": ".py",
   "mimetype": "text/x-python",
   "name": "python",
   "nbconvert_exporter": "python",
   "pygments_lexer": "ipython3",
   "version": "3.12.1"
  }
 },
 "nbformat": 4,
 "nbformat_minor": 5
}
