{
 "cells": [
  {
   "cell_type": "markdown",
   "metadata": {},
   "source": [
    "# Inheritance in Python\n",
    "\n",
    "Inheritance is a fundamental concept in Object-Oriented Programming (OOP). It is a mechanism that allows a new class (known as a child or derived class) to inherit attributes and methods from an existing class (known as a parent or base class).\n",
    "\n",
    "**Benefits of Inheritance:**\n",
    "- **Code Reusability:** It allows us to reuse code from a parent class, avoiding duplication.\n",
    "- **Extensibility:** We can add new features to a child class without modifying the parent class.\n",
    "- **Logical Structure:** It helps in creating a clear and logical hierarchy between classes."
   ]
  },
  {
   "cell_type": "markdown",
   "metadata": {},
   "source": [
    "## Types of Inheritance\n",
    "\n",
    "There are several types of inheritance in Python:\n",
    "1.  **Single Inheritance:** A child class inherits from a single parent class.\n",
    "2.  **Multiple Inheritance:** A child class inherits from multiple parent classes.\n",
    "3.  **Multilevel Inheritance:** A child class inherits from a parent class, which in turn inherits from another parent class.\n",
    "4.  **Hierarchical Inheritance:** Multiple child classes inherit from a single parent class.\n",
    "5.  **Hybrid Inheritance:** A combination of two or more types of inheritance."
   ]
  },
  {
   "cell_type": "markdown",
   "metadata": {},
   "source": [
    "### 1. Single Inheritance\n",
    "\n",
    "In single inheritance, a child class inherits from only one parent class."
   ]
  },
  {
   "cell_type": "code",
   "execution_count": null,
   "metadata": {},
   "outputs": [],
   "source": [
    "# Parent class\n",
    "class Animal:\n",
    "    def __init__(self, name):\n",
    "        self.name = name\n",
    "\n",
    "    def speak(self):\n",
    "        return f\"{self.name} makes a sound.\"\n",
    "\n",
    "# Child class\n",
    "class Dog(Animal):\n",
    "    def speak(self):\n",
    "        return f\"{self.name} barks.\"\n",
    "\n",
    "# Create an instance of the Dog class\n",
    "my_dog = Dog(\"Buddy\")\n",
    "print(my_dog.speak())\n",
    "\n",
    "# The child class can also access parent methods if not overridden\n",
    "# Let's create another animal\n",
    "my_animal = Animal(\"Generic Animal\")\n",
    "print(my_animal.speak())"
   ]
  },
  {
   "cell_type": "markdown",
   "metadata": {},
   "source": [
    "### 2. Multiple Inheritance\n",
    "\n",
    "In multiple inheritance, a child class can inherit from more than one parent class. This allows the child class to have access to the methods and attributes of all its parent classes."
   ]
  },
  {
   "cell_type": "code",
   "execution_count": null,
   "metadata": {},
   "outputs": [],
   "source": [
    "# First parent class\n",
    "class Father:\n",
    "    def __init__(self):\n",
    "        self.father_name = \"John\"\n",
    "    \n",
    "    def get_father_name(self):\n",
    "        return self.father_name\n",
    "\n",
    "# Second parent class\n",
    "class Mother:\n",
    "    def __init__(self):\n",
    "        self.mother_name = \"Jane\"\n",
    "\n",
    "    def get_mother_name(self):\n",
    "        return self.mother_name\n",
    "\n",
    "# Child class inheriting from both Father and Mother\n",
    "class Child(Father, Mother):\n",
    "    def __init__(self):\n",
    "        Father.__init__(self)\n",
    "        Mother.__init__(self)\n",
    "\n",
    "    def get_parents_names(self):\n",
    "        return f\"Father: {self.get_father_name()}, Mother: {self.get_mother_name()}\"\n",
    "\n",
    "# Create an instance of the Child class\n",
    "my_child = Child()\n",
    "print(my_child.get_parents_names())"
   ]
  },
  {
   "cell_type": "markdown",
   "metadata": {},
   "source": [
    "### 3. Multilevel Inheritance\n",
    "\n",
    "In multilevel inheritance, a class inherits from a derived class, making that derived class a parent for the new class."
   ]
  },
  {
   "cell_type": "code",
   "execution_count": null,
   "metadata": {},
   "outputs": [],
   "source": [
    "# Grandparent class\n",
    "class Grandparent:\n",
    "    def __init__(self, grandparent_name):\n",
    "        self.grandparent_name = grandparent_name\n",
    "\n",
    "    def get_grandparent_name(self):\n",
    "        return self.grandparent_name\n",
    "\n",
    "# Parent class inheriting from Grandparent\n",
    "class Parent(Grandparent):\n",
    "    def __init__(self, parent_name, grandparent_name):\n",
    "        self.parent_name = parent_name\n",
    "        Grandparent.__init__(self, grandparent_name)\n",
    "\n",
    "    def get_parent_name(self):\n",
    "        return self.parent_name\n",
    "\n",
    "# Child class inheriting from Parent\n",
    "class Child(Parent):\n",
    "    def __init__(self, child_name, parent_name, grandparent_name):\n",
    "        self.child_name = child_name\n",
    "        Parent.__init__(self, parent_name, grandparent_name)\n",
    "\n",
    "    def get_family_names(self):\n",
    "        return f\"Grandparent: {self.get_grandparent_name()}, Parent: {self.get_parent_name()}, Child: {self.child_name}\"\n",
    "\n",
    "# Create an instance of the Child class\n",
    "my_child = Child(\"Leo\", \"David\", \"George\")\n",
    "print(my_child.get_family_names())"
   ]
  },
  {
   "cell_type": "markdown",
   "metadata": {},
   "source": [
    "### 4. Hierarchical Inheritance\n",
    "\n",
    "In hierarchical inheritance, more than one derived class is created from a single base class."
   ]
  },
  {
   "cell_type": "code",
   "execution_count": null,
   "metadata": {},
   "outputs": [],
   "source": [
    "# Parent class\n",
    "class Shape:\n",
    "    def __init__(self, shape_name):\n",
    "        self.shape_name = shape_name\n",
    "    \n",
    "    def show_info(self):\n",
    "        return f\"This is a {self.shape_name}.\"\n",
    "\n",
    "# Child class 1\n",
    "class Circle(Shape):\n",
    "    def __init__(self, radius):\n",
    "        super().__init__(\"Circle\")\n",
    "        self.radius = radius\n",
    "    \n",
    "    def area(self):\n",
    "        return 3.14 * self.radius * self.radius\n",
    "\n",
    "# Child class 2\n",
    "class Rectangle(Shape):\n",
    "    def __init__(self, width, height):\n",
    "        super().__init__(\"Rectangle\")\n",
    "        self.width = width\n",
    "        self.height = height\n",
    "        \n",
    "    def area(self):\n",
    "        return self.width * self.height\n",
    "\n",
    "# Create instances of child classes\n",
    "my_circle = Circle(5)\n",
    "print(my_circle.show_info())\n",
    "print(f\"Area of the circle: {my_circle.area()}\")\n",
    "\n",
    "my_rectangle = Rectangle(4, 6)\n",
    "print(my_rectangle.show_info())\n",
    "print(f\"Area of the rectangle: {my_rectangle.area()}\")"
   ]
  },
  {
   "cell_type": "markdown",
   "metadata": {},
   "source": [
    "### The `super()` Function\n",
    "\n",
    "The `super()` function is used to call a method from the parent class. It is especially useful in the `__init__` method of a child class to call the parent's `__init__` method, ensuring that the parent is properly initialized."
   ]
  },
  {
   "cell_type": "code",
   "execution_count": null,
   "metadata": {},
   "outputs": [],
   "source": [
    "class Parent:\n",
    "    def __init__(self, name):\n",
    "        print(\"Parent __init__ called.\")\n",
    "        self.name = name\n",
    "\n",
    "class Child(Parent):\n",
    "    def __init__(self, name, age):\n",
    "        print(\"Child __init__ called.\")\n",
    "        super().__init__(name)  # Calling parent's __init__\n",
    "        self.age = age\n",
    "        \n",
    "    def display(self):\n",
    "        return f\"Name: {self.name}, Age: {self.age}\"\n",
    "\n",
    "child = Child(\"Alex\", 10)\n",
    "print(child.display())"
   ]
  },
  {
   "cell_type": "markdown",
   "metadata": {},
   "source": [
    "### Method Overriding\n",
    "\n",
    "If a child class has a method with the same name as a method in the parent class, the child's method will be used instead of the parent's. This is called method overriding."
   ]
  },
  {
   "cell_type": "code",
   "execution_count": null,
   "metadata": {},
   "outputs": [],
   "source": [
    "class Bird:\n",
    "    def fly(self):\n",
    "        return \"This bird can fly.\"\n",
    "\n",
    "class Ostrich(Bird):\n",
    "    # Overriding the fly method\n",
    "    def fly(self):\n",
    "        return \"This bird cannot fly.\"\n",
    "\n",
    "# Create instances\n",
    "generic_bird = Bird()\n",
    "my_ostrich = Ostrich()\n",
    "\n",
    "print(f\"Generic Bird: {generic_bird.fly()}\")\n",
    "print(f\"Ostrich: {my_ostrich.fly()}\")"
   ]
  }
 ],
 "metadata": {
  "kernelspec": {
   "display_name": "Python 3 (ipykernel)",
   "language": "python",
   "name": "python3"
  },
  "language_info": {
   "codemirror_mode": {
    "name": "ipython",
    "version": 3
   },
   "file_extension": ".py",
   "mimetype": "text/x-python",
   "name": "python",
   "nbconvert_exporter": "python",
   "pygments_lexer": "ipython3",
   "version": "3.11.5"
  }
 },
 "nbformat": 4,
 "nbformat_minor": 5
}
